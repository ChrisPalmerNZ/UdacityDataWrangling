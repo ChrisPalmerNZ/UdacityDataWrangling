{
 "cells": [
  {
   "cell_type": "markdown",
   "metadata": {},
   "source": [
    "# Data Wrangling - An interesting challenge!\n",
    "\n",
    "I have just completed the data wrangling component of my Udacity Data Analysis nanodegree. \n",
    "    \n",
    "The brief was to find and fix data quality and tidiness issues in data supplied by Udacity, based on the Twitter site [We Rate Dogs](https://twitter.com/dog_rates).\n",
    "\n",
    "![weratedogs](images/weratedogs.PNG)"
   ]
  },
  {
   "cell_type": "markdown",
   "metadata": {},
   "source": [
    "WeRateDogs is a Twitter account that rates people's dogs with a humorous comment about the dog. These ratings almost always have a denominator of 10. The numerators, though? Almost always greater than 10. 11/10, 12/10, 13/10, etc. Why? Because \"[they're good dogs Brent](http://knowyourmeme.com/memes/theyre-good-dogs-brent)\". WeRateDogs has over 4 million followers and has received international media coverage.\n",
    "\n",
    "WeRateDogs downloaded their Twitter archive and sent it to Udacity via email for the project. The archive contains basic tweet data (tweet ID, timestamp, text, etc.) for all 5000+ of their tweets as they stood on August 1, 2017."
   ]
  },
  {
   "cell_type": "markdown",
   "metadata": {},
   "source": [
    "The WeRateDogs Twitter archive contains basic tweet data for all 5000+ of their tweets, but not everything. One column the archive does contain though: each tweet's text, which was used to extract rating, dog name, and dog \"stage\" (i.e. doggo, floofer, pupper, and puppo) to make this Twitter archive \"enhanced.\" The 5000+ tweets  filtered for tweets with ratings only (there are 2356).\n",
    "\n",
    "![data_image](images/data_image.png)"
   ]
  },
  {
   "cell_type": "markdown",
   "metadata": {},
   "source": [
    "----\n",
    "**The work was performed in a Jupyter Notebook, `wrangle_act.ipynb`, which can be found on my [Github site](https://github.com/ChrisPalmerNZ/UdacityDataWrangling)**"
   ]
  },
  {
   "cell_type": "markdown",
   "metadata": {},
   "source": [
    "----\n",
    "The pictures on the site are very heart-warming and its easy to see why its such a popular site, aided by nice and funny comments the site owner adds...\n",
    "![maggie_lila](images/maggie_lila.PNG)"
   ]
  },
  {
   "cell_type": "markdown",
   "metadata": {},
   "source": [
    "**The data quality issues were considerable:**\n",
    "- We were instructed to retain only original tweets (no retweets) that contained dog images.\n",
    "- Removing retweets was easy - there was a column in the data the records whether the tweet is a retweet!\n",
    "- The site has many often humorous links to non-dog images, so despite the brief to retain only dog images I decided to keep them, my favorite was this one, with its peculiar defecation abilities:\n",
    "![chicken](images/chicken.PNG)"
   ]
  },
  {
   "cell_type": "markdown",
   "metadata": {},
   "source": [
    "Besides these easy issues, other issues included the following:\n",
    "- There were records without URLs\n",
    "- There were incorrect scores\n",
    "- Some of the name and dog type values were missing or incorrectly calculated\n",
    "- There were some strange values in the names"
   ]
  },
  {
   "cell_type": "markdown",
   "metadata": {},
   "source": [
    "**\"Data tidiness\" refers to having an appropriate format for the data**\n",
    "- There were several tidiness issues, some of which were open to interpretation, and detailed in the notebook... "
   ]
  },
  {
   "cell_type": "markdown",
   "metadata": {},
   "source": [
    "After completing the work, I was able to fetch information about the most popular dog names, and from the supplied image predictions file, the favorite breeds - it seems the most popular dog is a Labrador or Golden Retriever named Charlie!\n",
    "\n",
    "![names_breeds](images/names_breeds_head.jpg)"
   ]
  },
  {
   "cell_type": "code",
   "execution_count": null,
   "metadata": {},
   "outputs": [],
   "source": []
  }
 ],
 "metadata": {
  "kernelspec": {
   "display_name": "Python [conda env:root] *",
   "language": "python",
   "name": "conda-root-py"
  },
  "language_info": {
   "codemirror_mode": {
    "name": "ipython",
    "version": 3
   },
   "file_extension": ".py",
   "mimetype": "text/x-python",
   "name": "python",
   "nbconvert_exporter": "python",
   "pygments_lexer": "ipython3",
   "version": "3.6.6"
  },
  "toc": {
   "base_numbering": 1,
   "nav_menu": {},
   "number_sections": false,
   "sideBar": true,
   "skip_h1_title": false,
   "title_cell": "Table of Contents",
   "title_sidebar": "Contents",
   "toc_cell": false,
   "toc_position": {},
   "toc_section_display": true,
   "toc_window_display": true
  }
 },
 "nbformat": 4,
 "nbformat_minor": 2
}
